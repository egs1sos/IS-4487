{
  "cells": [
    {
      "cell_type": "markdown",
      "metadata": {
        "id": "xJxWWBkrp-JF"
      },
      "source": [
        "# IS 4487 Lab 1\n",
        "\n",
        "## Outline\n",
        "\n",
        "- Create and format cells in a notebook\n",
        "- Create basic variables in Python\n",
        "\n",
        "<a href=\"https://colab.research.google.com/github/Stan-Pugsley/is_4487_base/blob/main/Labs/lab_01_python_intro.ipynb\" target=\"_parent\"><img src=\"https://colab.research.google.com/assets/colab-badge.svg\" alt=\"Open In Colab\"/></a>\n",
        "\n",
        "If you have any questions about Colab, you can read more here:  https://research.google.com/colaboratory/faq.html"
      ]
    },
    {
      "cell_type": "markdown",
      "metadata": {
        "id": "G_NYvbQ7MnU_"
      },
      "source": [
        "## Your Turn: Work with the Python Notebook\n",
        "\n",
        "➡️ Assignment Tasks\n",
        "- Add a mathematical formula to add 15 and 22 in the cell below"
      ]
    },
    {
      "cell_type": "code",
      "execution_count": 3,
      "metadata": {
        "id": "q9D9aAk_p-JN",
        "outputId": "5f072ce7-95aa-40ed-fb39-4736619dd564",
        "colab": {
          "base_uri": "https://localhost:8080/"
        }
      },
      "outputs": [
        {
          "output_type": "execute_result",
          "data": {
            "text/plain": [
              "37"
            ]
          },
          "metadata": {},
          "execution_count": 3
        }
      ],
      "source": [
        "#Your code goes here\n",
        "15 + 22"
      ]
    },
    {
      "cell_type": "markdown",
      "metadata": {
        "id": "uZbfi2xaMnU_"
      },
      "source": [
        "➡️ Assignment Tasks\n",
        "Add a Markdown cell and write:\n",
        "\n",
        "- A heading.\n",
        "- Your major\n",
        "- Your favorite food"
      ]
    },
    {
      "cell_type": "markdown",
      "source": [
        "# Heading\n",
        "## Management\n",
        "## Cheeseburgers"
      ],
      "metadata": {
        "id": "7jJLhYYkNgiG"
      }
    },
    {
      "cell_type": "markdown",
      "metadata": {
        "id": "xv5rwJf1MnU_"
      },
      "source": [
        "➡️ Assignment Tasks\n",
        "- Create a variable called \"x\" with the value \"Hello World\".  Print the value of the variable"
      ]
    },
    {
      "cell_type": "code",
      "execution_count": 5,
      "metadata": {
        "id": "Aoo1rdQyMnVA",
        "outputId": "1fd19be4-501a-4556-f92b-4328ecdb34c8",
        "colab": {
          "base_uri": "https://localhost:8080/"
        }
      },
      "outputs": [
        {
          "output_type": "stream",
          "name": "stdout",
          "text": [
            "Hello World\n"
          ]
        }
      ],
      "source": [
        "#Your code goes here\n",
        "x = \"Hello World\"\n",
        "print (x)"
      ]
    },
    {
      "cell_type": "markdown",
      "metadata": {
        "id": "1FcfM1D2MnVA"
      },
      "source": [
        "## Export Your Notebook to Submit in Canvas\n",
        "- In the top menu, go to File > Download, click \"Download .ipynb\"\n",
        "- In the left side menu, click the Folder icon, then click the \"Upload to Session Storage\" icon\n",
        "- Convert the file to HTML using the code below.  You will be asked to approve access to the files\n",
        "- Find the output file under Files in the left side menu\n",
        "- Download your HTML file as your completed assignment, to be uploaded to Canvas"
      ]
    },
    {
      "cell_type": "code",
      "execution_count": null,
      "metadata": {
        "id": "fjJPU8yzMnVA"
      },
      "outputs": [],
      "source": [
        "!jupyter nbconvert --to html \"lab_01_python_intro.ipynb\""
      ]
    },
    {
      "cell_type": "markdown",
      "metadata": {
        "id": "XvDgZsIrMnVA"
      },
      "source": [
        "## Submit your assignment\n",
        "\n",
        "- Make sure that all of your output is shown.  If you get the “unable to render code block” error, try refreshing the cache or downloading raw data to manually upload into Colab as a workaround.\n",
        "- Upload your HTML file to Canvas\n",
        "- Optionally, save your file in your own GitHub account for future use\n"
      ]
    }
  ],
  "metadata": {
    "colab": {
      "provenance": []
    },
    "kernelspec": {
      "display_name": "Python 3",
      "name": "python3"
    },
    "language_info": {
      "name": "python"
    }
  },
  "nbformat": 4,
  "nbformat_minor": 0
}